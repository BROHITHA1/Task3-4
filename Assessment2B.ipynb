{
 "cells": [
  {
   "cell_type": "markdown",
   "metadata": {},
   "source": [
    "###### Assessment"
   ]
  },
  {
   "cell_type": "markdown",
   "metadata": {},
   "source": [
    "###### I am going to provide two .csv files , you are supposed to work on them and have to provide solutions to the following problems"
   ]
  },
  {
   "cell_type": "markdown",
   "metadata": {},
   "source": [
    "###### import necessary libraries"
   ]
  },
  {
   "cell_type": "code",
   "execution_count": 1,
   "metadata": {},
   "outputs": [],
   "source": [
    "import pandas as pd\n",
    "import numpy as np\n",
    "import seaborn as sns\n",
    "import matplotlib.pyplot as plt\n",
    "%matplotlib inline"
   ]
  },
  {
   "cell_type": "markdown",
   "metadata": {},
   "source": [
    "###### merge those two csv files (after getting as dataframes, get them as a single dataframe)"
   ]
  },
  {
   "cell_type": "code",
   "execution_count": 2,
   "metadata": {},
   "outputs": [
    {
     "data": {
      "text/html": [
       "<div>\n",
       "<style scoped>\n",
       "    .dataframe tbody tr th:only-of-type {\n",
       "        vertical-align: middle;\n",
       "    }\n",
       "\n",
       "    .dataframe tbody tr th {\n",
       "        vertical-align: top;\n",
       "    }\n",
       "\n",
       "    .dataframe thead th {\n",
       "        text-align: right;\n",
       "    }\n",
       "</style>\n",
       "<table border=\"1\" class=\"dataframe\">\n",
       "  <thead>\n",
       "    <tr style=\"text-align: right;\">\n",
       "      <th></th>\n",
       "      <th>Name</th>\n",
       "      <th>python</th>\n",
       "      <th>mysql</th>\n",
       "      <th>Previous Geekions</th>\n",
       "      <th>CodeKata Score</th>\n",
       "      <th>Department</th>\n",
       "      <th>Rising</th>\n",
       "    </tr>\n",
       "  </thead>\n",
       "  <tbody>\n",
       "    <tr>\n",
       "      <th>0</th>\n",
       "      <td>A.Dharani</td>\n",
       "      <td>82.0</td>\n",
       "      <td>20.0</td>\n",
       "      <td>24500</td>\n",
       "      <td>24500</td>\n",
       "      <td>Computer Science and Engineering</td>\n",
       "      <td>0</td>\n",
       "    </tr>\n",
       "    <tr>\n",
       "      <th>1</th>\n",
       "      <td>V.JEEVITHA</td>\n",
       "      <td>82.0</td>\n",
       "      <td>20.0</td>\n",
       "      <td>21740</td>\n",
       "      <td>21740</td>\n",
       "      <td>Computer Science and Engineering</td>\n",
       "      <td>0</td>\n",
       "    </tr>\n",
       "    <tr>\n",
       "      <th>2</th>\n",
       "      <td>HEMAVATHI.R</td>\n",
       "      <td>100.0</td>\n",
       "      <td>100.0</td>\n",
       "      <td>19680</td>\n",
       "      <td>19680</td>\n",
       "      <td>Computer Science and Engineering</td>\n",
       "      <td>0</td>\n",
       "    </tr>\n",
       "    <tr>\n",
       "      <th>3</th>\n",
       "      <td>Mugunthan S</td>\n",
       "      <td>100.0</td>\n",
       "      <td>47.0</td>\n",
       "      <td>10610</td>\n",
       "      <td>10610</td>\n",
       "      <td>Computer Science and Engineering</td>\n",
       "      <td>0</td>\n",
       "    </tr>\n",
       "    <tr>\n",
       "      <th>4</th>\n",
       "      <td>Sathammai.S</td>\n",
       "      <td>100.0</td>\n",
       "      <td>8.0</td>\n",
       "      <td>8980</td>\n",
       "      <td>8980</td>\n",
       "      <td>Computer Science and Engineering</td>\n",
       "      <td>0</td>\n",
       "    </tr>\n",
       "  </tbody>\n",
       "</table>\n",
       "</div>"
      ],
      "text/plain": [
       "          Name  python  mysql  Previous Geekions  CodeKata Score  \\\n",
       "0    A.Dharani    82.0   20.0              24500           24500   \n",
       "1  V.JEEVITHA     82.0   20.0              21740           21740   \n",
       "2  HEMAVATHI.R   100.0  100.0              19680           19680   \n",
       "3  Mugunthan S   100.0   47.0              10610           10610   \n",
       "4  Sathammai.S   100.0    8.0               8980            8980   \n",
       "\n",
       "                         Department  Rising  \n",
       "0  Computer Science and Engineering       0  \n",
       "1  Computer Science and Engineering       0  \n",
       "2  Computer Science and Engineering       0  \n",
       "3  Computer Science and Engineering       0  \n",
       "4  Computer Science and Engineering       0  "
      ]
     },
     "execution_count": 2,
     "metadata": {},
     "output_type": "execute_result"
    }
   ],
   "source": [
    "df1=pd.read_csv('college_1.csv')\n",
    "df1.head()"
   ]
  },
  {
   "cell_type": "code",
   "execution_count": 3,
   "metadata": {},
   "outputs": [
    {
     "data": {
      "text/html": [
       "<div>\n",
       "<style scoped>\n",
       "    .dataframe tbody tr th:only-of-type {\n",
       "        vertical-align: middle;\n",
       "    }\n",
       "\n",
       "    .dataframe tbody tr th {\n",
       "        vertical-align: top;\n",
       "    }\n",
       "\n",
       "    .dataframe thead th {\n",
       "        text-align: right;\n",
       "    }\n",
       "</style>\n",
       "<table border=\"1\" class=\"dataframe\">\n",
       "  <thead>\n",
       "    <tr style=\"text-align: right;\">\n",
       "      <th></th>\n",
       "      <th>Name</th>\n",
       "      <th>python</th>\n",
       "      <th>python_en</th>\n",
       "      <th>mysql</th>\n",
       "      <th>computational_thinking</th>\n",
       "      <th>Previous Geekions</th>\n",
       "      <th>CodeKata Score</th>\n",
       "      <th>Department</th>\n",
       "      <th>Rising</th>\n",
       "    </tr>\n",
       "  </thead>\n",
       "  <tbody>\n",
       "    <tr>\n",
       "      <th>0</th>\n",
       "      <td>ASHOK KUMAR K</td>\n",
       "      <td>100</td>\n",
       "      <td>0</td>\n",
       "      <td>31</td>\n",
       "      <td>9</td>\n",
       "      <td>19400</td>\n",
       "      <td>19400</td>\n",
       "      <td>Electronics and Electrical Engineering</td>\n",
       "      <td>0</td>\n",
       "    </tr>\n",
       "    <tr>\n",
       "      <th>1</th>\n",
       "      <td>Chandru</td>\n",
       "      <td>0</td>\n",
       "      <td>20</td>\n",
       "      <td>0</td>\n",
       "      <td>0</td>\n",
       "      <td>14150</td>\n",
       "      <td>14490</td>\n",
       "      <td>Computer Science and Engineering</td>\n",
       "      <td>340</td>\n",
       "    </tr>\n",
       "    <tr>\n",
       "      <th>2</th>\n",
       "      <td>Ganesh Ramkumar R</td>\n",
       "      <td>-1</td>\n",
       "      <td>55</td>\n",
       "      <td>24</td>\n",
       "      <td>6</td>\n",
       "      <td>8790</td>\n",
       "      <td>10790</td>\n",
       "      <td>Computer Science and Engineering</td>\n",
       "      <td>2000</td>\n",
       "    </tr>\n",
       "    <tr>\n",
       "      <th>3</th>\n",
       "      <td>Bodipudi Harini</td>\n",
       "      <td>-1</td>\n",
       "      <td>0</td>\n",
       "      <td>35</td>\n",
       "      <td>-1</td>\n",
       "      <td>10040</td>\n",
       "      <td>10040</td>\n",
       "      <td>Electronics and Communication Engineering</td>\n",
       "      <td>0</td>\n",
       "    </tr>\n",
       "    <tr>\n",
       "      <th>4</th>\n",
       "      <td>VIINU V P</td>\n",
       "      <td>-1</td>\n",
       "      <td>100</td>\n",
       "      <td>24</td>\n",
       "      <td>-1</td>\n",
       "      <td>9150</td>\n",
       "      <td>9150</td>\n",
       "      <td>Electronics and Electrical Engineering</td>\n",
       "      <td>0</td>\n",
       "    </tr>\n",
       "  </tbody>\n",
       "</table>\n",
       "</div>"
      ],
      "text/plain": [
       "                Name  python  python_en  mysql  computational_thinking  \\\n",
       "0      ASHOK KUMAR K     100          0     31                       9   \n",
       "1            Chandru       0         20      0                       0   \n",
       "2  Ganesh Ramkumar R      -1         55     24                       6   \n",
       "3    Bodipudi Harini      -1          0     35                      -1   \n",
       "4          VIINU V P      -1        100     24                      -1   \n",
       "\n",
       "   Previous Geekions  CodeKata Score  \\\n",
       "0              19400           19400   \n",
       "1              14150           14490   \n",
       "2               8790           10790   \n",
       "3              10040           10040   \n",
       "4               9150            9150   \n",
       "\n",
       "                                  Department  Rising  \n",
       "0     Electronics and Electrical Engineering       0  \n",
       "1           Computer Science and Engineering     340  \n",
       "2           Computer Science and Engineering    2000  \n",
       "3  Electronics and Communication Engineering       0  \n",
       "4     Electronics and Electrical Engineering       0  "
      ]
     },
     "execution_count": 3,
     "metadata": {},
     "output_type": "execute_result"
    }
   ],
   "source": [
    "df2=pd.read_csv('college_2.csv')\n",
    "df2.head()"
   ]
  },
  {
   "cell_type": "code",
   "execution_count": 4,
   "metadata": {},
   "outputs": [
    {
     "data": {
      "text/html": [
       "<div>\n",
       "<style scoped>\n",
       "    .dataframe tbody tr th:only-of-type {\n",
       "        vertical-align: middle;\n",
       "    }\n",
       "\n",
       "    .dataframe tbody tr th {\n",
       "        vertical-align: top;\n",
       "    }\n",
       "\n",
       "    .dataframe thead th {\n",
       "        text-align: right;\n",
       "    }\n",
       "</style>\n",
       "<table border=\"1\" class=\"dataframe\">\n",
       "  <thead>\n",
       "    <tr style=\"text-align: right;\">\n",
       "      <th></th>\n",
       "      <th>Name</th>\n",
       "      <th>python</th>\n",
       "      <th>mysql</th>\n",
       "      <th>Previous Geekions</th>\n",
       "      <th>CodeKata Score</th>\n",
       "      <th>Department</th>\n",
       "      <th>Rising</th>\n",
       "      <th>python_en</th>\n",
       "      <th>computational_thinking</th>\n",
       "    </tr>\n",
       "  </thead>\n",
       "  <tbody>\n",
       "    <tr>\n",
       "      <th>0</th>\n",
       "      <td>A.Dharani</td>\n",
       "      <td>82.0</td>\n",
       "      <td>20.0</td>\n",
       "      <td>24500</td>\n",
       "      <td>24500</td>\n",
       "      <td>Computer Science and Engineering</td>\n",
       "      <td>0</td>\n",
       "      <td>NaN</td>\n",
       "      <td>NaN</td>\n",
       "    </tr>\n",
       "    <tr>\n",
       "      <th>1</th>\n",
       "      <td>V.JEEVITHA</td>\n",
       "      <td>82.0</td>\n",
       "      <td>20.0</td>\n",
       "      <td>21740</td>\n",
       "      <td>21740</td>\n",
       "      <td>Computer Science and Engineering</td>\n",
       "      <td>0</td>\n",
       "      <td>NaN</td>\n",
       "      <td>NaN</td>\n",
       "    </tr>\n",
       "    <tr>\n",
       "      <th>2</th>\n",
       "      <td>HEMAVATHI.R</td>\n",
       "      <td>100.0</td>\n",
       "      <td>100.0</td>\n",
       "      <td>19680</td>\n",
       "      <td>19680</td>\n",
       "      <td>Computer Science and Engineering</td>\n",
       "      <td>0</td>\n",
       "      <td>NaN</td>\n",
       "      <td>NaN</td>\n",
       "    </tr>\n",
       "    <tr>\n",
       "      <th>3</th>\n",
       "      <td>Mugunthan S</td>\n",
       "      <td>100.0</td>\n",
       "      <td>47.0</td>\n",
       "      <td>10610</td>\n",
       "      <td>10610</td>\n",
       "      <td>Computer Science and Engineering</td>\n",
       "      <td>0</td>\n",
       "      <td>NaN</td>\n",
       "      <td>NaN</td>\n",
       "    </tr>\n",
       "    <tr>\n",
       "      <th>4</th>\n",
       "      <td>Sathammai.S</td>\n",
       "      <td>100.0</td>\n",
       "      <td>8.0</td>\n",
       "      <td>8980</td>\n",
       "      <td>8980</td>\n",
       "      <td>Computer Science and Engineering</td>\n",
       "      <td>0</td>\n",
       "      <td>NaN</td>\n",
       "      <td>NaN</td>\n",
       "    </tr>\n",
       "    <tr>\n",
       "      <th>...</th>\n",
       "      <td>...</td>\n",
       "      <td>...</td>\n",
       "      <td>...</td>\n",
       "      <td>...</td>\n",
       "      <td>...</td>\n",
       "      <td>...</td>\n",
       "      <td>...</td>\n",
       "      <td>...</td>\n",
       "      <td>...</td>\n",
       "    </tr>\n",
       "    <tr>\n",
       "      <th>30</th>\n",
       "      <td>praveen raj j</td>\n",
       "      <td>24.0</td>\n",
       "      <td>0.0</td>\n",
       "      <td>2380</td>\n",
       "      <td>2380</td>\n",
       "      <td>Computer Science and Engineering</td>\n",
       "      <td>0</td>\n",
       "      <td>-1.0</td>\n",
       "      <td>0.0</td>\n",
       "    </tr>\n",
       "    <tr>\n",
       "      <th>31</th>\n",
       "      <td>AMARNATH D</td>\n",
       "      <td>-1.0</td>\n",
       "      <td>12.0</td>\n",
       "      <td>1890</td>\n",
       "      <td>1890</td>\n",
       "      <td>Electronics and Communication Engineering</td>\n",
       "      <td>0</td>\n",
       "      <td>52.0</td>\n",
       "      <td>-1.0</td>\n",
       "    </tr>\n",
       "    <tr>\n",
       "      <th>32</th>\n",
       "      <td>bala</td>\n",
       "      <td>32.0</td>\n",
       "      <td>0.0</td>\n",
       "      <td>1720</td>\n",
       "      <td>1720</td>\n",
       "      <td>Electronics and Communication Engineering</td>\n",
       "      <td>0</td>\n",
       "      <td>49.0</td>\n",
       "      <td>-1.0</td>\n",
       "    </tr>\n",
       "    <tr>\n",
       "      <th>33</th>\n",
       "      <td>XY Z</td>\n",
       "      <td>-1.0</td>\n",
       "      <td>-1.0</td>\n",
       "      <td>0</td>\n",
       "      <td>0</td>\n",
       "      <td>Computer Science and Engineering</td>\n",
       "      <td>0</td>\n",
       "      <td>20.0</td>\n",
       "      <td>-1.0</td>\n",
       "    </tr>\n",
       "    <tr>\n",
       "      <th>34</th>\n",
       "      <td>Hariharan</td>\n",
       "      <td>-1.0</td>\n",
       "      <td>-1.0</td>\n",
       "      <td>0</td>\n",
       "      <td>0</td>\n",
       "      <td>Computer Science and Engineering</td>\n",
       "      <td>0</td>\n",
       "      <td>-1.0</td>\n",
       "      <td>0.0</td>\n",
       "    </tr>\n",
       "  </tbody>\n",
       "</table>\n",
       "<p>119 rows × 9 columns</p>\n",
       "</div>"
      ],
      "text/plain": [
       "             Name  python  mysql  Previous Geekions  CodeKata Score  \\\n",
       "0       A.Dharani    82.0   20.0              24500           24500   \n",
       "1     V.JEEVITHA     82.0   20.0              21740           21740   \n",
       "2     HEMAVATHI.R   100.0  100.0              19680           19680   \n",
       "3     Mugunthan S   100.0   47.0              10610           10610   \n",
       "4     Sathammai.S   100.0    8.0               8980            8980   \n",
       "..            ...     ...    ...                ...             ...   \n",
       "30  praveen raj j    24.0    0.0               2380            2380   \n",
       "31     AMARNATH D    -1.0   12.0               1890            1890   \n",
       "32           bala    32.0    0.0               1720            1720   \n",
       "33           XY Z    -1.0   -1.0                  0               0   \n",
       "34      Hariharan    -1.0   -1.0                  0               0   \n",
       "\n",
       "                                   Department  Rising  python_en  \\\n",
       "0            Computer Science and Engineering       0        NaN   \n",
       "1            Computer Science and Engineering       0        NaN   \n",
       "2            Computer Science and Engineering       0        NaN   \n",
       "3            Computer Science and Engineering       0        NaN   \n",
       "4            Computer Science and Engineering       0        NaN   \n",
       "..                                        ...     ...        ...   \n",
       "30           Computer Science and Engineering       0       -1.0   \n",
       "31  Electronics and Communication Engineering       0       52.0   \n",
       "32  Electronics and Communication Engineering       0       49.0   \n",
       "33           Computer Science and Engineering       0       20.0   \n",
       "34           Computer Science and Engineering       0       -1.0   \n",
       "\n",
       "    computational_thinking  \n",
       "0                      NaN  \n",
       "1                      NaN  \n",
       "2                      NaN  \n",
       "3                      NaN  \n",
       "4                      NaN  \n",
       "..                     ...  \n",
       "30                     0.0  \n",
       "31                    -1.0  \n",
       "32                    -1.0  \n",
       "33                    -1.0  \n",
       "34                     0.0  \n",
       "\n",
       "[119 rows x 9 columns]"
      ]
     },
     "execution_count": 4,
     "metadata": {},
     "output_type": "execute_result"
    }
   ],
   "source": [
    "df_merge=pd.concat([df1,df2])\n",
    "#df_merge=df1.merge(df2,on='Department')\n",
    "#df_merge.to_csv(\"merge.csv\", index=False)\n",
    "df_merge"
   ]
  },
  {
   "cell_type": "markdown",
   "metadata": {},
   "source": [
    "###### Take each csv file , split that csv file into multiple categories (example csv files are added in the repo) \n"
   ]
  },
  {
   "cell_type": "markdown",
   "metadata": {},
   "source": [
    "###### consider if the codekata score exceeds 15000 points(present week) then make a csv on those observations as Exceeded expectations.csv\n"
   ]
  },
  {
   "cell_type": "markdown",
   "metadata": {},
   "source": [
    "###### if  10000<codekata score<15000   (Reached_expectations.csv)\n",
    "\n"
   ]
  },
  {
   "cell_type": "markdown",
   "metadata": {},
   "source": [
    "###### if  7000<codekata score<10000   (Needs_Improvement.csv)\n"
   ]
  },
  {
   "cell_type": "markdown",
   "metadata": {},
   "source": [
    "###### if  codekate score < 7000        (Unsatisfactory.csv)"
   ]
  },
  {
   "cell_type": "code",
   "execution_count": 5,
   "metadata": {},
   "outputs": [],
   "source": [
    "x=df_merge[df_merge['CodeKata Score']>=15000]\n",
    "x.to_csv('Exceeded Expectations.csv')"
   ]
  },
  {
   "cell_type": "code",
   "execution_count": 6,
   "metadata": {},
   "outputs": [],
   "source": [
    "y=df_merge[df_merge['CodeKata Score'].between(10000,15000,inclusive=False)]\n",
    "y.to_csv('Reached_expectations.csv')"
   ]
  },
  {
   "cell_type": "code",
   "execution_count": 7,
   "metadata": {},
   "outputs": [],
   "source": [
    "z=df_merge[df_merge['CodeKata Score'].between(7000,10000,inclusive=True)]\n",
    "z.to_csv('Needs_Improvement.csv')"
   ]
  },
  {
   "cell_type": "code",
   "execution_count": 8,
   "metadata": {},
   "outputs": [],
   "source": [
    "a=df_merge[df_merge['CodeKata Score']<7000]\n",
    "a.to_csv('Unsatisfactory.csv')"
   ]
  },
  {
   "cell_type": "markdown",
   "metadata": {},
   "source": [
    "###### Average of previous week geekions vs this week geekions (i.e Previous Geekions vs CodeKata Score)"
   ]
  },
  {
   "cell_type": "code",
   "execution_count": 9,
   "metadata": {},
   "outputs": [
    {
     "name": "stdout",
     "output_type": "stream",
     "text": [
      "4051.764705882353\n"
     ]
    }
   ],
   "source": [
    "cs=df_merge['CodeKata Score'].mean()\n",
    "print(cs)"
   ]
  },
  {
   "cell_type": "code",
   "execution_count": 10,
   "metadata": {},
   "outputs": [
    {
     "name": "stdout",
     "output_type": "stream",
     "text": [
      "3842.3529411764707\n"
     ]
    }
   ],
   "source": [
    "pg=df_merge['Previous Geekions'].mean()\n",
    "print(pg)"
   ]
  },
  {
   "cell_type": "code",
   "execution_count": 11,
   "metadata": {},
   "outputs": [
    {
     "data": {
      "text/html": [
       "<div>\n",
       "<style scoped>\n",
       "    .dataframe tbody tr th:only-of-type {\n",
       "        vertical-align: middle;\n",
       "    }\n",
       "\n",
       "    .dataframe tbody tr th {\n",
       "        vertical-align: top;\n",
       "    }\n",
       "\n",
       "    .dataframe thead th {\n",
       "        text-align: right;\n",
       "    }\n",
       "</style>\n",
       "<table border=\"1\" class=\"dataframe\">\n",
       "  <thead>\n",
       "    <tr style=\"text-align: right;\">\n",
       "      <th></th>\n",
       "      <th>python</th>\n",
       "      <th>mysql</th>\n",
       "      <th>Previous Geekions</th>\n",
       "      <th>CodeKata Score</th>\n",
       "      <th>Rising</th>\n",
       "      <th>python_en</th>\n",
       "      <th>computational_thinking</th>\n",
       "    </tr>\n",
       "  </thead>\n",
       "  <tbody>\n",
       "    <tr>\n",
       "      <th>count</th>\n",
       "      <td>119.000000</td>\n",
       "      <td>119.000000</td>\n",
       "      <td>119.000000</td>\n",
       "      <td>119.000000</td>\n",
       "      <td>119.000000</td>\n",
       "      <td>35.000000</td>\n",
       "      <td>35.000000</td>\n",
       "    </tr>\n",
       "    <tr>\n",
       "      <th>mean</th>\n",
       "      <td>54.352941</td>\n",
       "      <td>23.500000</td>\n",
       "      <td>3842.352941</td>\n",
       "      <td>4051.764706</td>\n",
       "      <td>209.411765</td>\n",
       "      <td>29.657143</td>\n",
       "      <td>2.200000</td>\n",
       "    </tr>\n",
       "    <tr>\n",
       "      <th>std</th>\n",
       "      <td>44.272526</td>\n",
       "      <td>33.276671</td>\n",
       "      <td>4406.339992</td>\n",
       "      <td>4551.951881</td>\n",
       "      <td>553.445746</td>\n",
       "      <td>30.582524</td>\n",
       "      <td>7.015948</td>\n",
       "    </tr>\n",
       "    <tr>\n",
       "      <th>min</th>\n",
       "      <td>-1.000000</td>\n",
       "      <td>-1.000000</td>\n",
       "      <td>0.000000</td>\n",
       "      <td>0.000000</td>\n",
       "      <td>0.000000</td>\n",
       "      <td>-1.000000</td>\n",
       "      <td>-1.000000</td>\n",
       "    </tr>\n",
       "    <tr>\n",
       "      <th>25%</th>\n",
       "      <td>0.000000</td>\n",
       "      <td>0.000000</td>\n",
       "      <td>740.000000</td>\n",
       "      <td>740.000000</td>\n",
       "      <td>0.000000</td>\n",
       "      <td>0.000000</td>\n",
       "      <td>0.000000</td>\n",
       "    </tr>\n",
       "    <tr>\n",
       "      <th>50%</th>\n",
       "      <td>82.000000</td>\n",
       "      <td>4.000000</td>\n",
       "      <td>2410.000000</td>\n",
       "      <td>2410.000000</td>\n",
       "      <td>0.000000</td>\n",
       "      <td>20.000000</td>\n",
       "      <td>0.000000</td>\n",
       "    </tr>\n",
       "    <tr>\n",
       "      <th>75%</th>\n",
       "      <td>100.000000</td>\n",
       "      <td>33.000000</td>\n",
       "      <td>5340.000000</td>\n",
       "      <td>5975.000000</td>\n",
       "      <td>0.000000</td>\n",
       "      <td>52.000000</td>\n",
       "      <td>0.000000</td>\n",
       "    </tr>\n",
       "    <tr>\n",
       "      <th>max</th>\n",
       "      <td>100.000000</td>\n",
       "      <td>100.000000</td>\n",
       "      <td>24500.000000</td>\n",
       "      <td>24500.000000</td>\n",
       "      <td>3140.000000</td>\n",
       "      <td>100.000000</td>\n",
       "      <td>39.000000</td>\n",
       "    </tr>\n",
       "  </tbody>\n",
       "</table>\n",
       "</div>"
      ],
      "text/plain": [
       "           python       mysql  Previous Geekions  CodeKata Score       Rising  \\\n",
       "count  119.000000  119.000000         119.000000      119.000000   119.000000   \n",
       "mean    54.352941   23.500000        3842.352941     4051.764706   209.411765   \n",
       "std     44.272526   33.276671        4406.339992     4551.951881   553.445746   \n",
       "min     -1.000000   -1.000000           0.000000        0.000000     0.000000   \n",
       "25%      0.000000    0.000000         740.000000      740.000000     0.000000   \n",
       "50%     82.000000    4.000000        2410.000000     2410.000000     0.000000   \n",
       "75%    100.000000   33.000000        5340.000000     5975.000000     0.000000   \n",
       "max    100.000000  100.000000       24500.000000    24500.000000  3140.000000   \n",
       "\n",
       "        python_en  computational_thinking  \n",
       "count   35.000000               35.000000  \n",
       "mean    29.657143                2.200000  \n",
       "std     30.582524                7.015948  \n",
       "min     -1.000000               -1.000000  \n",
       "25%      0.000000                0.000000  \n",
       "50%     20.000000                0.000000  \n",
       "75%     52.000000                0.000000  \n",
       "max    100.000000               39.000000  "
      ]
     },
     "execution_count": 11,
     "metadata": {},
     "output_type": "execute_result"
    }
   ],
   "source": [
    "df_merge.describe()"
   ]
  },
  {
   "cell_type": "code",
   "execution_count": 12,
   "metadata": {},
   "outputs": [],
   "source": [
    "df_merge['python_en']=df_merge['python_en'].fillna(df_merge['python_en'].mode()[0])"
   ]
  },
  {
   "cell_type": "code",
   "execution_count": 13,
   "metadata": {},
   "outputs": [],
   "source": [
    "df_merge['computational_thinking']=df_merge['computational_thinking'].fillna(df_merge['computational_thinking'].mode()[0])"
   ]
  },
  {
   "cell_type": "code",
   "execution_count": 14,
   "metadata": {},
   "outputs": [
    {
     "data": {
      "text/html": [
       "<div>\n",
       "<style scoped>\n",
       "    .dataframe tbody tr th:only-of-type {\n",
       "        vertical-align: middle;\n",
       "    }\n",
       "\n",
       "    .dataframe tbody tr th {\n",
       "        vertical-align: top;\n",
       "    }\n",
       "\n",
       "    .dataframe thead th {\n",
       "        text-align: right;\n",
       "    }\n",
       "</style>\n",
       "<table border=\"1\" class=\"dataframe\">\n",
       "  <thead>\n",
       "    <tr style=\"text-align: right;\">\n",
       "      <th></th>\n",
       "      <th>python</th>\n",
       "      <th>mysql</th>\n",
       "      <th>Previous Geekions</th>\n",
       "      <th>CodeKata Score</th>\n",
       "      <th>Rising</th>\n",
       "      <th>python_en</th>\n",
       "      <th>computational_thinking</th>\n",
       "    </tr>\n",
       "  </thead>\n",
       "  <tbody>\n",
       "    <tr>\n",
       "      <th>count</th>\n",
       "      <td>119.000000</td>\n",
       "      <td>119.000000</td>\n",
       "      <td>119.000000</td>\n",
       "      <td>119.000000</td>\n",
       "      <td>119.000000</td>\n",
       "      <td>119.000000</td>\n",
       "      <td>119.000000</td>\n",
       "    </tr>\n",
       "    <tr>\n",
       "      <th>mean</th>\n",
       "      <td>54.352941</td>\n",
       "      <td>23.500000</td>\n",
       "      <td>3842.352941</td>\n",
       "      <td>4051.764706</td>\n",
       "      <td>209.411765</td>\n",
       "      <td>8.722689</td>\n",
       "      <td>0.647059</td>\n",
       "    </tr>\n",
       "    <tr>\n",
       "      <th>std</th>\n",
       "      <td>44.272526</td>\n",
       "      <td>33.276671</td>\n",
       "      <td>4406.339992</td>\n",
       "      <td>4551.951881</td>\n",
       "      <td>553.445746</td>\n",
       "      <td>21.298892</td>\n",
       "      <td>3.898257</td>\n",
       "    </tr>\n",
       "    <tr>\n",
       "      <th>min</th>\n",
       "      <td>-1.000000</td>\n",
       "      <td>-1.000000</td>\n",
       "      <td>0.000000</td>\n",
       "      <td>0.000000</td>\n",
       "      <td>0.000000</td>\n",
       "      <td>-1.000000</td>\n",
       "      <td>-1.000000</td>\n",
       "    </tr>\n",
       "    <tr>\n",
       "      <th>25%</th>\n",
       "      <td>0.000000</td>\n",
       "      <td>0.000000</td>\n",
       "      <td>740.000000</td>\n",
       "      <td>740.000000</td>\n",
       "      <td>0.000000</td>\n",
       "      <td>0.000000</td>\n",
       "      <td>0.000000</td>\n",
       "    </tr>\n",
       "    <tr>\n",
       "      <th>50%</th>\n",
       "      <td>82.000000</td>\n",
       "      <td>4.000000</td>\n",
       "      <td>2410.000000</td>\n",
       "      <td>2410.000000</td>\n",
       "      <td>0.000000</td>\n",
       "      <td>0.000000</td>\n",
       "      <td>0.000000</td>\n",
       "    </tr>\n",
       "    <tr>\n",
       "      <th>75%</th>\n",
       "      <td>100.000000</td>\n",
       "      <td>33.000000</td>\n",
       "      <td>5340.000000</td>\n",
       "      <td>5975.000000</td>\n",
       "      <td>0.000000</td>\n",
       "      <td>0.000000</td>\n",
       "      <td>0.000000</td>\n",
       "    </tr>\n",
       "    <tr>\n",
       "      <th>max</th>\n",
       "      <td>100.000000</td>\n",
       "      <td>100.000000</td>\n",
       "      <td>24500.000000</td>\n",
       "      <td>24500.000000</td>\n",
       "      <td>3140.000000</td>\n",
       "      <td>100.000000</td>\n",
       "      <td>39.000000</td>\n",
       "    </tr>\n",
       "  </tbody>\n",
       "</table>\n",
       "</div>"
      ],
      "text/plain": [
       "           python       mysql  Previous Geekions  CodeKata Score       Rising  \\\n",
       "count  119.000000  119.000000         119.000000      119.000000   119.000000   \n",
       "mean    54.352941   23.500000        3842.352941     4051.764706   209.411765   \n",
       "std     44.272526   33.276671        4406.339992     4551.951881   553.445746   \n",
       "min     -1.000000   -1.000000           0.000000        0.000000     0.000000   \n",
       "25%      0.000000    0.000000         740.000000      740.000000     0.000000   \n",
       "50%     82.000000    4.000000        2410.000000     2410.000000     0.000000   \n",
       "75%    100.000000   33.000000        5340.000000     5975.000000     0.000000   \n",
       "max    100.000000  100.000000       24500.000000    24500.000000  3140.000000   \n",
       "\n",
       "        python_en  computational_thinking  \n",
       "count  119.000000              119.000000  \n",
       "mean     8.722689                0.647059  \n",
       "std     21.298892                3.898257  \n",
       "min     -1.000000               -1.000000  \n",
       "25%      0.000000                0.000000  \n",
       "50%      0.000000                0.000000  \n",
       "75%      0.000000                0.000000  \n",
       "max    100.000000               39.000000  "
      ]
     },
     "execution_count": 14,
     "metadata": {},
     "output_type": "execute_result"
    }
   ],
   "source": [
    "df_merge.describe()"
   ]
  },
  {
   "cell_type": "code",
   "execution_count": 15,
   "metadata": {},
   "outputs": [
    {
     "data": {
      "image/png": "[encoded data removed]",
      "text/plain": [
       "<Figure size 720x432 with 1 Axes>"
      ]
     },
     "metadata": {
      "needs_background": "light"
     },
     "output_type": "display_data"
    }
   ],
   "source": [
    "fig, ax = plt.subplots(figsize=(10, 6))\n",
    "dfy=range(0,5000)\n",
    "ax.bar(cs,dfy,label='Codekata Score',width=8)\n",
    "ax.bar(pg,dfy,label='Previous Geekions',width=8)\n",
    "plt.xlabel('Average Comparision')\n",
    "plt.ylabel('Score')\n",
    "plt.legend()\n",
    "plt.show()"
   ]
  },
  {
   "cell_type": "markdown",
   "metadata": {},
   "source": [
    "###### No of students participated "
   ]
  },
  {
   "cell_type": "code",
   "execution_count": 16,
   "metadata": {},
   "outputs": [
    {
     "data": {
      "text/plain": [
       "119"
      ]
     },
     "execution_count": 16,
     "metadata": {},
     "output_type": "execute_result"
    }
   ],
   "source": [
    "df_merge['Name'].count()"
   ]
  },
  {
   "cell_type": "markdown",
   "metadata": {},
   "source": [
    "###### #Average completion of python course or my_sql or python english or computational thinking"
   ]
  },
  {
   "cell_type": "code",
   "execution_count": 17,
   "metadata": {},
   "outputs": [
    {
     "name": "stdout",
     "output_type": "stream",
     "text": [
      "PythonCourse_Avg : 54.35294117647059\n",
      "Mysql_Avg : 23.5\n",
      "PythonEnglish_Avg : 8.722689075630251\n",
      "ComputationalThinking_Avg : 0.6470588235294118\n"
     ]
    }
   ],
   "source": [
    "python_course_Avg=df_merge['python'].mean()\n",
    "print(\"PythonCourse_Avg :\",python_course_Avg)\n",
    "my_sql_Avg=df_merge['mysql'].mean()\n",
    "print(\"Mysql_Avg :\",my_sql_Avg)\n",
    "python_english_Avg=df_merge['python_en'].mean()\n",
    "print(\"PythonEnglish_Avg :\",python_english_Avg)\n",
    "computational_thinking_Avg=df_merge['computational_thinking'].mean()\n",
    "print(\"ComputationalThinking_Avg :\",computational_thinking_Avg)"
   ]
  },
  {
   "cell_type": "markdown",
   "metadata": {},
   "source": [
    "###### rising star of the week (top 3 candidate who performed well in that particular week)"
   ]
  },
  {
   "cell_type": "code",
   "execution_count": 18,
   "metadata": {},
   "outputs": [
    {
     "name": "stdout",
     "output_type": "stream",
     "text": [
      "Top 3 candidate who performed well in that particular week(Rising stars) :\n",
      " 8              shifak N\n",
      "18       Narasimhan Y L\n",
      "2     Ganesh Ramkumar R\n",
      "Name: Name, dtype: object\n"
     ]
    }
   ],
   "source": [
    "rt=df_merge.sort_values(by='Rising' ,ascending=False)\n",
    "rising_star=(rt['Name'].head(3))\n",
    "print(\"Top 3 candidate who performed well in that particular week(Rising stars) :\\n\",rising_star)"
   ]
  },
  {
   "cell_type": "markdown",
   "metadata": {},
   "source": [
    "###### Shining stars of the week (top 3 candidates who has highest geekions)"
   ]
  },
  {
   "cell_type": "code",
   "execution_count": 19,
   "metadata": {},
   "outputs": [
    {
     "name": "stdout",
     "output_type": "stream",
     "text": [
      "Top 3 candidates who has highest geekions :\n",
      " 0      A.Dharani\n",
      "1    V.JEEVITHA \n",
      "2    HEMAVATHI.R\n",
      "Name: Name, dtype: object\n"
     ]
    }
   ],
   "source": [
    "st=df_merge.sort_values(by='CodeKata Score' ,ascending=False)\n",
    "shining_star=(st['Name'].head(3))\n",
    "print(\"Top 3 candidates who has highest geekions :\\n\",shining_star)"
   ]
  },
  {
   "cell_type": "markdown",
   "metadata": {},
   "source": [
    "###### Department wise codekata performence (pie chart)"
   ]
  },
  {
   "cell_type": "code",
   "execution_count": 20,
   "metadata": {},
   "outputs": [
    {
     "name": "stdout",
     "output_type": "stream",
     "text": [
      "Department\n",
      "Electronics and Electrical Engineering        53800\n",
      "Electronics and Communication Engineering    108335\n",
      "Computer Science and Engineering             320025\n",
      "Name: CodeKata Score, dtype: int64\n"
     ]
    }
   ],
   "source": [
    "#dpc=df_merge\n",
    "dp=df_merge.groupby('Department')['CodeKata Score'].sum().sort_values()\n",
    "print(dp)\n",
    "#dpc.head()\n",
    "#dp.plot.pie(figsize=(10,10))"
   ]
  },
  {
   "cell_type": "code",
   "execution_count": 26,
   "metadata": {},
   "outputs": [
    {
     "data": {
      "image/png": "[encoded data removed]",
      "text/plain": [
       "<Figure size 720x432 with 1 Axes>"
      ]
     },
     "metadata": {},
     "output_type": "display_data"
    }
   ],
   "source": [
    "df_merge.groupby(['Department']).sum().plot(kind='pie', y='CodeKata Score',figsize=(10,6) ,explode=(0,0,0.2), autopct='%1.1f%%')\n",
    "plt.title('Department wise codekata performance')\n",
    "plt.savefig(\"Dpt wise codekata prf.jpg\")"
   ]
  },
  {
   "cell_type": "markdown",
   "metadata": {},
   "source": [
    "###### Department wise toppers (horizantal bar graph or any visual representations of your choice)"
   ]
  },
  {
   "cell_type": "code",
   "execution_count": 21,
   "metadata": {
    "scrolled": false
   },
   "outputs": [
    {
     "data": {
      "text/html": [
       "<div>\n",
       "<style scoped>\n",
       "    .dataframe tbody tr th:only-of-type {\n",
       "        vertical-align: middle;\n",
       "    }\n",
       "\n",
       "    .dataframe tbody tr th {\n",
       "        vertical-align: top;\n",
       "    }\n",
       "\n",
       "    .dataframe thead th {\n",
       "        text-align: right;\n",
       "    }\n",
       "</style>\n",
       "<table border=\"1\" class=\"dataframe\">\n",
       "  <thead>\n",
       "    <tr style=\"text-align: right;\">\n",
       "      <th></th>\n",
       "      <th>Name</th>\n",
       "      <th>python</th>\n",
       "      <th>mysql</th>\n",
       "      <th>Previous Geekions</th>\n",
       "      <th>CodeKata Score</th>\n",
       "      <th>Department</th>\n",
       "      <th>Rising</th>\n",
       "      <th>python_en</th>\n",
       "      <th>computational_thinking</th>\n",
       "      <th>perfomance</th>\n",
       "    </tr>\n",
       "  </thead>\n",
       "  <tbody>\n",
       "    <tr>\n",
       "      <th>0</th>\n",
       "      <td>A.Dharani</td>\n",
       "      <td>82.0</td>\n",
       "      <td>20.0</td>\n",
       "      <td>24500</td>\n",
       "      <td>24500</td>\n",
       "      <td>Computer Science and Engineering</td>\n",
       "      <td>0</td>\n",
       "      <td>0.0</td>\n",
       "      <td>0.0</td>\n",
       "      <td>24602.0</td>\n",
       "    </tr>\n",
       "    <tr>\n",
       "      <th>1</th>\n",
       "      <td>V.JEEVITHA</td>\n",
       "      <td>82.0</td>\n",
       "      <td>20.0</td>\n",
       "      <td>21740</td>\n",
       "      <td>21740</td>\n",
       "      <td>Computer Science and Engineering</td>\n",
       "      <td>0</td>\n",
       "      <td>0.0</td>\n",
       "      <td>0.0</td>\n",
       "      <td>21842.0</td>\n",
       "    </tr>\n",
       "    <tr>\n",
       "      <th>2</th>\n",
       "      <td>HEMAVATHI.R</td>\n",
       "      <td>100.0</td>\n",
       "      <td>100.0</td>\n",
       "      <td>19680</td>\n",
       "      <td>19680</td>\n",
       "      <td>Computer Science and Engineering</td>\n",
       "      <td>0</td>\n",
       "      <td>0.0</td>\n",
       "      <td>0.0</td>\n",
       "      <td>19880.0</td>\n",
       "    </tr>\n",
       "    <tr>\n",
       "      <th>0</th>\n",
       "      <td>ASHOK KUMAR K</td>\n",
       "      <td>100.0</td>\n",
       "      <td>31.0</td>\n",
       "      <td>19400</td>\n",
       "      <td>19400</td>\n",
       "      <td>Electronics and Electrical Engineering</td>\n",
       "      <td>0</td>\n",
       "      <td>0.0</td>\n",
       "      <td>9.0</td>\n",
       "      <td>19540.0</td>\n",
       "    </tr>\n",
       "    <tr>\n",
       "      <th>1</th>\n",
       "      <td>Chandru</td>\n",
       "      <td>0.0</td>\n",
       "      <td>0.0</td>\n",
       "      <td>14150</td>\n",
       "      <td>14490</td>\n",
       "      <td>Computer Science and Engineering</td>\n",
       "      <td>340</td>\n",
       "      <td>20.0</td>\n",
       "      <td>0.0</td>\n",
       "      <td>14510.0</td>\n",
       "    </tr>\n",
       "    <tr>\n",
       "      <th>...</th>\n",
       "      <td>...</td>\n",
       "      <td>...</td>\n",
       "      <td>...</td>\n",
       "      <td>...</td>\n",
       "      <td>...</td>\n",
       "      <td>...</td>\n",
       "      <td>...</td>\n",
       "      <td>...</td>\n",
       "      <td>...</td>\n",
       "      <td>...</td>\n",
       "    </tr>\n",
       "    <tr>\n",
       "      <th>80</th>\n",
       "      <td>BARATH.P</td>\n",
       "      <td>29.0</td>\n",
       "      <td>0.0</td>\n",
       "      <td>0</td>\n",
       "      <td>0</td>\n",
       "      <td>Electronics and Electrical Engineering</td>\n",
       "      <td>0</td>\n",
       "      <td>0.0</td>\n",
       "      <td>0.0</td>\n",
       "      <td>29.0</td>\n",
       "    </tr>\n",
       "    <tr>\n",
       "      <th>83</th>\n",
       "      <td>yaser ahamed.A</td>\n",
       "      <td>0.0</td>\n",
       "      <td>27.0</td>\n",
       "      <td>0</td>\n",
       "      <td>0</td>\n",
       "      <td>Electronics and Electrical Engineering</td>\n",
       "      <td>0</td>\n",
       "      <td>0.0</td>\n",
       "      <td>0.0</td>\n",
       "      <td>27.0</td>\n",
       "    </tr>\n",
       "    <tr>\n",
       "      <th>33</th>\n",
       "      <td>XY Z</td>\n",
       "      <td>-1.0</td>\n",
       "      <td>-1.0</td>\n",
       "      <td>0</td>\n",
       "      <td>0</td>\n",
       "      <td>Computer Science and Engineering</td>\n",
       "      <td>0</td>\n",
       "      <td>20.0</td>\n",
       "      <td>-1.0</td>\n",
       "      <td>17.0</td>\n",
       "    </tr>\n",
       "    <tr>\n",
       "      <th>82</th>\n",
       "      <td>mohamed nabi</td>\n",
       "      <td>0.0</td>\n",
       "      <td>0.0</td>\n",
       "      <td>0</td>\n",
       "      <td>0</td>\n",
       "      <td>Electronics and Electrical Engineering</td>\n",
       "      <td>0</td>\n",
       "      <td>0.0</td>\n",
       "      <td>0.0</td>\n",
       "      <td>0.0</td>\n",
       "    </tr>\n",
       "    <tr>\n",
       "      <th>34</th>\n",
       "      <td>Hariharan</td>\n",
       "      <td>-1.0</td>\n",
       "      <td>-1.0</td>\n",
       "      <td>0</td>\n",
       "      <td>0</td>\n",
       "      <td>Computer Science and Engineering</td>\n",
       "      <td>0</td>\n",
       "      <td>-1.0</td>\n",
       "      <td>0.0</td>\n",
       "      <td>-3.0</td>\n",
       "    </tr>\n",
       "  </tbody>\n",
       "</table>\n",
       "<p>119 rows × 10 columns</p>\n",
       "</div>"
      ],
      "text/plain": [
       "              Name  python  mysql  Previous Geekions  CodeKata Score  \\\n",
       "0        A.Dharani    82.0   20.0              24500           24500   \n",
       "1      V.JEEVITHA     82.0   20.0              21740           21740   \n",
       "2      HEMAVATHI.R   100.0  100.0              19680           19680   \n",
       "0    ASHOK KUMAR K   100.0   31.0              19400           19400   \n",
       "1          Chandru     0.0    0.0              14150           14490   \n",
       "..             ...     ...    ...                ...             ...   \n",
       "80        BARATH.P    29.0    0.0                  0               0   \n",
       "83  yaser ahamed.A     0.0   27.0                  0               0   \n",
       "33            XY Z    -1.0   -1.0                  0               0   \n",
       "82    mohamed nabi     0.0    0.0                  0               0   \n",
       "34       Hariharan    -1.0   -1.0                  0               0   \n",
       "\n",
       "                                Department  Rising  python_en  \\\n",
       "0         Computer Science and Engineering       0        0.0   \n",
       "1         Computer Science and Engineering       0        0.0   \n",
       "2         Computer Science and Engineering       0        0.0   \n",
       "0   Electronics and Electrical Engineering       0        0.0   \n",
       "1         Computer Science and Engineering     340       20.0   \n",
       "..                                     ...     ...        ...   \n",
       "80  Electronics and Electrical Engineering       0        0.0   \n",
       "83  Electronics and Electrical Engineering       0        0.0   \n",
       "33        Computer Science and Engineering       0       20.0   \n",
       "82  Electronics and Electrical Engineering       0        0.0   \n",
       "34        Computer Science and Engineering       0       -1.0   \n",
       "\n",
       "    computational_thinking  perfomance  \n",
       "0                      0.0     24602.0  \n",
       "1                      0.0     21842.0  \n",
       "2                      0.0     19880.0  \n",
       "0                      9.0     19540.0  \n",
       "1                      0.0     14510.0  \n",
       "..                     ...         ...  \n",
       "80                     0.0        29.0  \n",
       "83                     0.0        27.0  \n",
       "33                    -1.0        17.0  \n",
       "82                     0.0         0.0  \n",
       "34                     0.0        -3.0  \n",
       "\n",
       "[119 rows x 10 columns]"
      ]
     },
     "execution_count": 21,
     "metadata": {},
     "output_type": "execute_result"
    }
   ],
   "source": [
    "perf=df_merge['python']+df_merge['mysql']+df_merge['CodeKata Score']+df_merge['python_en']+df_merge['computational_thinking']\n",
    "df_merge[\"perfomance\"]=perf.round()\n",
    "new_df=df_merge.sort_values('perfomance',ascending=False)\n",
    "new_df"
   ]
  },
  {
   "cell_type": "code",
   "execution_count": 34,
   "metadata": {},
   "outputs": [
    {
     "data": {
      "image/png": "[encoded data removed]",
      "text/plain": [
       "<Figure size 576x576 with 1 Axes>"
      ]
     },
     "metadata": {},
     "output_type": "display_data"
    }
   ],
   "source": [
    "top=new_df.groupby('Department')\n",
    "cse_top=top.get_group('Computer Science and Engineering')\n",
    "cse_top=cse_top.head(3)\n",
    "top_names=[]\n",
    "dpt_top=[]\n",
    "for x in range(len(cse_top)):\n",
    "    top_names.append(cse_top['Name'])\n",
    "top_names=top_names[0]\n",
    "top_names=list(top_names)\n",
    "top_names\n",
    "dpt_top.append(top_names[0])\n",
    "#label=cse_top['Name']\n",
    "cse_top.plot(kind='pie', y='perfomance',figsize=(8,8) ,explode=(0.1,0,0), autopct='%1.1f%%',labels=top_names)\n",
    "#cse_top.plot(kind='bar')\n",
    "plt.title('CSE Department toppers',fontsize=20)\n",
    "plt.savefig(\"CSE Department toppers.jpg\")"
   ]
  },
  {
   "cell_type": "code",
   "execution_count": 35,
   "metadata": {},
   "outputs": [
    {
     "data": {
      "image/png": "[encoded data removed]",
      "text/plain": [
       "<Figure size 576x576 with 1 Axes>"
      ]
     },
     "metadata": {},
     "output_type": "display_data"
    }
   ],
   "source": [
    "ece_top=top.get_group('Electronics and Communication Engineering')\n",
    "ece_top=ece_top.head(3)\n",
    "top_names=[]\n",
    "for x in range(len(ece_top)):\n",
    "    top_names.append(ece_top['Name'])\n",
    "top_names=top_names[0]\n",
    "top_names=list(top_names)\n",
    "top_names\n",
    "dpt_top.append(top_names[0])\n",
    "#label=cse_top['Name']\n",
    "ece_top.plot(kind='pie', y='perfomance',figsize=(8,8) ,explode=(0.1,0,0), autopct='%1.1f%%',labels=top_names)\n",
    "#cse_top.plot(kind='bar')\n",
    "plt.title('ECE Department toppers',fontsize=20)\n",
    "plt.savefig(\"ECE Department toppers.jpg\")"
   ]
  },
  {
   "cell_type": "code",
   "execution_count": 36,
   "metadata": {},
   "outputs": [
    {
     "data": {
      "image/png": "[encoded data removed]",
      "text/plain": [
       "<Figure size 576x576 with 1 Axes>"
      ]
     },
     "metadata": {},
     "output_type": "display_data"
    }
   ],
   "source": [
    "eee_top=top.get_group('Electronics and Electrical Engineering')\n",
    "eee_top=eee_top.head(3)\n",
    "top_names=[]\n",
    "for x in range(len(eee_top)):\n",
    "    top_names.append(eee_top['Name'])\n",
    "top_names=top_names[0]\n",
    "top_names=list(top_names)\n",
    "top_names\n",
    "dpt_top.append(top_names[0])\n",
    "#label=cse_top['Name']\n",
    "eee_top.plot(kind='pie', y='perfomance',figsize=(8,8) ,explode=(0.1,0,0), autopct='%1.1f%%',labels=top_names)\n",
    "#cse_top.plot(kind='bar')\n",
    "plt.title('EEE Department toppers',fontsize=20)\n",
    "plt.savefig(\"EEE Department toppers.jpg\")"
   ]
  },
  {
   "cell_type": "code",
   "execution_count": 37,
   "metadata": {},
   "outputs": [
    {
     "data": {
      "image/png": "[encoded data removed]",
      "text/plain": [
       "<Figure size 576x576 with 1 Axes>"
      ]
     },
     "metadata": {},
     "output_type": "display_data"
    }
   ],
   "source": [
    "top=new_df.groupby('Department').max()\n",
    "top\n",
    "dpt_top\n",
    "top.plot(kind='pie', y='perfomance',figsize=(8,8) ,explode=(0.1,0,0), autopct='%1.1f%%',labels=dpt_top)\n",
    "plt.title('Department wise toppers',fontsize=20)\n",
    "plt.savefig(\"Toppers in each Department.jpg\")"
   ]
  },
  {
   "cell_type": "code",
   "execution_count": null,
   "metadata": {},
   "outputs": [],
   "source": []
  }
 ],
 "metadata": {
  "kernelspec": {
   "display_name": "Python 3",
   "language": "python",
   "name": "python3"
  },
  "language_info": {
   "codemirror_mode": {
    "name": "ipython",
    "version": 3
   },
   "file_extension": ".py",
   "mimetype": "text/x-python",
   "name": "python",
   "nbconvert_exporter": "python",
   "pygments_lexer": "ipython3",
   "version": "3.7.6"
  }
 },
 "nbformat": 4,
 "nbformat_minor": 2
}
